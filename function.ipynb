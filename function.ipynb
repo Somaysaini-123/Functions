{
  "nbformat": 4,
  "nbformat_minor": 0,
  "metadata": {
    "colab": {
      "provenance": []
    },
    "kernelspec": {
      "name": "python3",
      "display_name": "Python 3"
    },
    "language_info": {
      "name": "python"
    }
  },
  "cells": [
    {
      "cell_type": "markdown",
      "source": [
        "#1. What is the difference between a function and a method in Python?\n",
        "  -  Functions:-\n",
        "   -  It is a piece of code that is already defined in python.A function is a block of code that performs some specific tasks.\n",
        "   -  functions are reusable,neat,clean and organisation that saves your time.\n",
        "   -  Functions typically operate on data passed to them as arguments and may return a value.\n",
        "     ex- def square(n):\n",
        "           return a*a\n",
        "  -  Methods:-\n",
        "  -  A method is a function that is defined within a class and is associated with objects (instances) of that class.\n",
        " -  Methods are called on an object using dot notation (e.g., object.method()).\n",
        " - They can access and modify the data (attributes) of the object.\n",
        "  ex - class MathOperations:\n",
        "         def add(a, b):\n",
        "          return a+b\n",
        "     def multiply(a, b):\n",
        "        return a * b\n",
        "        \n",
        "\n",
        "\n"
      ],
      "metadata": {
        "id": "k72EeH-HV2ih"
      }
    },
    {
      "cell_type": "markdown",
      "source": [
        " # 2. Explain the concept of function arguments and parameters in Python?\n",
        "  -  parameters are the named variable that can be defined in functions. They are called the place holders of the value in python.\n",
        "  ex - def square(n):\n",
        "        return n*n\n",
        "  - Argument are the actual value or data that are passed to a function whwn it is called. arguments are when we call actual value to a function.\n",
        "  ex- square(5)\n",
        "  output is- 25\n",
        "  "
      ],
      "metadata": {
        "id": "OP1FYEvcV2xJ"
      }
    },
    {
      "cell_type": "markdown",
      "source": [
        "# 3.What are the different ways to define and call a function in Python?\n",
        "  -  Defining a function:-\n",
        "  -  You have to use def keyword for define the function. Def keyword initiates the function defination.\n",
        "  - function-name- after the def keyword we have to write the function name. which identifies the function unique.\n",
        "  -  Parameters: An optional list of parameters (also called arguments) that the function accepts as input. These are enclosed in parentheses and separated by commas.\n",
        "-  Colon: Marks the end of the function header.\n",
        " - Return statement: An optional statement used to send a value back to the caller of the function. If no return statement is present, the function implicitly returns None.\n",
        "   ex- def sum(a,b):\n",
        "        return a+b\n",
        " - Call a Function:-To execute the code within a function, you \"call\" it using its name followed by parentheses. If the function requires arguments, you pass them inside the parentheses. Functions help organize code, promote reusability, and improve readability.\n",
        "   ex- sum(5,7)\n",
        "  output is 12"
      ],
      "metadata": {
        "id": "XTckLgUAV28y"
      }
    },
    {
      "cell_type": "markdown",
      "source": [
        "# 4.What is the purpose of the `return` statement in a Python function?\n",
        "  - return statement is used in two ways in python -\n",
        "      Existing Statement,Return a Value\n",
        "    - Existing Statement - when a return function is encounterd within a function . any code following the return statement within that function will not be executed.\n",
        "    - return a value- The return statement can optionally be followed by an expression or a value. f no value or expression is specified after return, or if the function reaches its end without encountering a return statement.\n",
        "     "
      ],
      "metadata": {
        "id": "4h2Lj2tgV3D5"
      }
    },
    {
      "cell_type": "markdown",
      "source": [
        "#  5. What are iterators in Python and how do they differ from iterables?\n",
        "  -  Iterable - An iterable is any python object/sequential str/data structure is capable of returning its members one at a time.\n",
        "  ex- lis=[1,2,3,4]\n",
        "        for i in lis:\n",
        "          print(i)\n",
        "          output- 1,2,3\n",
        "    - Iterator is an object reprensting a stream of data. It is used to return the data one by one.\n",
        "     ex- l= iter([1,2,3,4])\n",
        "            l\n",
        "          < list_iterator at 077f8010>\n",
        "          next(l)\n",
        "            1\n",
        "          next(l)\n",
        "           2"
      ],
      "metadata": {
        "id": "fNURfgvOZywk"
      }
    },
    {
      "cell_type": "markdown",
      "source": [
        "# 6. Explain the concept of generators in Python and how they are defined?\n",
        "  -  Generator function is used to produce the result one by one.A generator function uses a yield statement.Any other function uses return statement but generator uses a yield statement.\n",
        "  def square_number(n):\n",
        "      for i in range(n):\n",
        "      yield i**2\n",
        "      "
      ],
      "metadata": {
        "id": "Dd02G9-RV3Oh"
      }
    },
    {
      "cell_type": "markdown",
      "source": [
        "# 7.What are the advantages of using generators over regular functions?\n",
        "  -  Regular functions- they calculate the square of the values and return in go memory will be more it will take a lot of execution time if there is a lot of computations they can do all computations then all returns at once.\n",
        "   -  Generators functions - Generator function is used to produce the result one by one.A generator function uses a yield statement.Any other function uses return statement but generator uses a yield statement.\n",
        "      example of regular function-\n",
        "         n= [1,2,3,4,5]\n",
        "     def square_num(n):\n",
        "           return n*n\n",
        "           output is [1,4,9,16,25]\n",
        "      example of generator function-\n",
        "      def generators(n):\n",
        "        for i in range(n)\n",
        "         yield i**2\n"
      ],
      "metadata": {
        "id": "AdKBfMKbV3bH"
      }
    },
    {
      "cell_type": "markdown",
      "source": [
        "# 8. What is a lambda function in Python and when is it typically used?\n",
        "  -  lamda function is used to pass the statement in a single line .In lamda function there is no need of defining a keyword. there is no need to write return statement when you will use the lamda function. use lambda function to define all expression in a single line.\n",
        "  ex- lambda x: x**2\n",
        "\n"
      ],
      "metadata": {
        "id": "967CpXAUV3jW"
      }
    },
    {
      "cell_type": "markdown",
      "source": [
        "# 9. Explain the purpose and usage of the `map()` function in Python.\n",
        " -  Maps executes a specified function for each of the items of an iterable.\n",
        "   syntax- map(func,*iterable)\n",
        "   ex- s= \"pwskills\"\n",
        "      list(map(lambda x: x.uppercase(),s))\n",
        "      output is - 'UPPERCASE'"
      ],
      "metadata": {
        "id": "oPk5oiOGV3u3"
      }
    },
    {
      "cell_type": "markdown",
      "source": [
        "# 10.  What is the difference between `map()`, `reduce()`, and `filter()` functions in Python?\n",
        " -  Maps executes a specified function for each of the items of an iterable. syntax- map(func,*iterable)\n",
        " ex- = s = \"pwskills\"\n",
        "       list(map(lambda x: x.uppercase(),s))\n",
        "       output is - 'UPPERCASE'\n",
        " - Reduce -  The reduce() function in Python, found within the functools module, is a higher-order function that applies a given function cumulatively to the items of an iterable, reducing the iterable to a single value. It processes the elements sequentially, taking the result of the previous application and the next element as arguments to the function.\n",
        "  reduce function will always take two arguments.\n",
        "     - syntax- reduce(func,iterable)\n",
        "     ex- from functools import reduce\n",
        "         l= [2,1,3,4,4,5,6]\n",
        "          reduce( lambda x,y:x+y,l)\n",
        "          output is - 25\n",
        "  - filter- It is used to filter elements from an iterable based on some conditions.\n",
        "  ex- l= [2,1,3,4,4,5,6]\n",
        "      list(filter(lambda x: x%2==0,l))\n",
        "          output is - [2,4,6]\n",
        "          \n",
        "\n"
      ],
      "metadata": {
        "id": "eEw7YgIfV32M"
      }
    },
    {
      "cell_type": "markdown",
      "source": [
        "# 11. 11. Using pen & Paper write the internal mechanism for sum operation using reduce function on this given list:[47,11,42,13]\n",
        "  -  ![reduce function.jpeg](data:image/jpeg;base64,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)"
      ],
      "metadata": {
        "id": "Uqredz7rV39x"
      }
    },
    {
      "cell_type": "markdown",
      "source": [
        "# practical Questions:\n",
        "  # 1.  Write a Python function that takes a list of numbers as input and returns the sum of all even numbers in the list.\n",
        "    -  def sum_numbers(n):\n",
        "       even_sum=  0\n",
        "       for i in n:\n",
        "       if n%2 == 0:\n",
        "       even_sum=even_sum+n\n",
        "       return even_sum\n",
        "       "
      ],
      "metadata": {
        "id": "9Bkqavo0V4KX"
      }
    },
    {
      "cell_type": "markdown",
      "source": [
        "# 2.  Create a Python function that accepts a string and returns the reverse of that string.\n",
        " - def reverse(a):\n",
        "    retrun a[::-1]\n",
        "   "
      ],
      "metadata": {
        "id": "Nn4DcGWEV4Rn"
      }
    },
    {
      "cell_type": "markdown",
      "source": [
        "# 3.  Implement a Python function that takes a list of integers and returns a new list containing the squares of each number.\n",
        "  -  def square_number(int_list):\n",
        "       new_list =[]\n",
        "     for i in int_list:\n",
        "      new_list=int_list**2\n",
        "      return new_list\n",
        "      \n"
      ],
      "metadata": {
        "id": "Tym_5IzoV4Yh"
      }
    },
    {
      "cell_type": "markdown",
      "source": [
        "# 4. Write a Python function that checks if a given number is prime or not from 1 to 200.\n",
        "-  def find_primes_in_range(start, end):\n",
        "         prime_numbers = []\n",
        "     for num in range(start, end + 1):\n",
        "        if is_prime(num):\n",
        "            prime_numbers.append(num)\n",
        "     return prime_numbers"
      ],
      "metadata": {
        "id": "_jq8W4oKV4lL"
      }
    },
    {
      "cell_type": "markdown",
      "source": [
        "# 5. Create an iterator class in Python that generates the Fibonacci sequence up to a specified number of terms.\n",
        "  -def fibonacci_series(n):\n",
        "         a=0\n",
        "         b=1\n",
        "         for i in range(n):\n",
        "         yield a\n",
        "         a,b= b,a+b\n",
        "         "
      ],
      "metadata": {
        "id": "9qVFo1jc3kMu"
      }
    },
    {
      "cell_type": "markdown",
      "source": [
        "# 6. Write a generator function in Python that yields the powers of 2 up to a given exponent.\n",
        "-  def power(e):\n",
        "  for exponent in range(e+1):\n",
        "     yield 2**exponent"
      ],
      "metadata": {
        "id": "StDxZtmH3kSj"
      }
    },
    {
      "cell_type": "markdown",
      "source": [
        "# 7. Implement a generator function that reads a file line by line and yields each line as a string.\n",
        "-  def read_lines(filepath):\n",
        " try:\n",
        "        with open(filepath, 'r') as file:\n",
        "            for line in file:\n",
        "                yield line.strip('\\n')\n",
        "  except FileNotFoundError:\n",
        "        print(f\"Error: The file '{filepath}' was not found.\")\n",
        "     except Exception as e:\n",
        "        print(f\"An error occurred: {e}\")"
      ],
      "metadata": {
        "id": "BzDfcakm3kWB"
      }
    },
    {
      "cell_type": "markdown",
      "source": [
        "# 8. Use a lambda function in Python to sort a list of tuples based on the second element of each tuple.\n",
        " -   data = [(1, 'apple'), (3, 'banana'), (2, 'orange'), (4, 'grape')]\n",
        "      data.sort(key=lambda x: x[1])\n",
        "       print(data)"
      ],
      "metadata": {
        "id": "ilJkgz_o3kZh"
      }
    },
    {
      "cell_type": "markdown",
      "source": [
        "# 9. Write a Python program that uses `map()` to convert a list of temperatures from Celsius to Fahrenheit.\n",
        "  - def celcius_to_fahrenheit(celsius_temp)\n",
        "      return(celcius_temp * 9/5) + 32\n",
        "      celsius_temperatures = [0, 10, 20, 30, 40, 100]\n",
        "      fahrenheit_temperatures_map_object = map(celsius_to_fahrenheit, celsius_temperatures)\n",
        "      return fahrenheit_temperatures_map_object"
      ],
      "metadata": {
        "id": "TbNFsom93kq-"
      }
    },
    {
      "cell_type": "markdown",
      "source": [
        "# 10. Create a Python program that uses `filter()` to remove all the vowels from a given string.\n",
        "  -  a=list(\"sample\")\n",
        "     def vowel(x):\n",
        "     v=('a','e','i','o','u')\n",
        "     return x in v\n",
        "   b=list(filter(vowel,a))\n",
        "   print(\"Vowels : \",b)\n",
        "  print(\"No of Vowels : \",len(b))"
      ],
      "metadata": {
        "id": "mmalGw393kuD"
      }
    },
    {
      "cell_type": "markdown",
      "source": [
        "# 11.Imagine an accounting routine used in a book shop. It works on a list with sublists, which look like this:\n",
        "Write a Python program, which returns a list with 2-tuples. Each tuple consists of the order number and the\n",
        "product of the price per item and the quantity. The product should be increased by 10,- € if the value of the\n",
        "order is smaller than 100,00 €.\n",
        "\n",
        "Write a Python program using lambda and map.\n",
        " -   orders_data=[\n",
        "              [34587,\"learning python,mark lutz\",4,40,95],\n",
        "              [98762,\"programming python,mark lutz\",5,56,80],\n",
        "              [77226,\"head first python,paul barry\",3,32.95],\n",
        "              [88112,\"Einfuhurng in python3,bernd klein\",3,24.99]\n",
        "              \n"
      ],
      "metadata": {
        "id": "KBrROIvw3kxe"
      }
    },
    {
      "cell_type": "markdown",
      "source": [],
      "metadata": {
        "id": "IUkDOhL13lBp"
      }
    },
    {
      "cell_type": "markdown",
      "source": [],
      "metadata": {
        "id": "oCFyxA1Q3lFM"
      }
    }
  ]
}